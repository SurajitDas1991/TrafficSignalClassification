{
 "cells": [
  {
   "cell_type": "code",
   "execution_count": null,
   "metadata": {},
   "outputs": [],
   "source": [
    "import matplotlib.pyplot as plt\n",
    "from PIL import Image\n",
    "import os\n",
    "import numpy as np\n",
    "from skimage import io\n",
    "from keras.preprocessing.image import ImageDataGenerator\n",
    "from matplotlib import cm\n",
    "from mpl_toolkits.axes_grid1 import ImageGrid\n",
    "import math"
   ]
  },
  {
   "cell_type": "code",
   "execution_count": 40,
   "metadata": {},
   "outputs": [],
   "source": [
    "columns=[\"Speed limit (5km/h)\",\n",
    "\"Speed limit (15km/h)\",\n",
    "\"Speed limit (30km/h)\",\n",
    "\"Speed limit (40km/h)\",\n",
    "\"Speed limit (50km/h)\",\n",
    "\"Speed limit (60km/h)\",\n",
    "\"Speed limit (70km/h)\",\n",
    "\"speed limit (80km/h)\",\n",
    "\"Dont Go straight or left\",\n",
    "\"Dont Go straight or Right\",\n",
    "\"Dont Go straight\",\n",
    "\"Dont Go Left\",\n",
    "\"Dont Go Left or Right\",\n",
    "\"Dont Go Right\",\n",
    "\"Dont overtake from Left\",\n",
    "\"No Uturn\",\n",
    "\"No Car\",\n",
    "\"No horn\",\n",
    "\"Speed limit (40km/h)\",\n",
    "\"Speed limit (50km/h)\",\n",
    "\"Go straight or right\",\n",
    "\"Go straight\",\n",
    "\"Go Left\",\n",
    "\"Go Left or right\"\n",
    "\"Go Right\",\n",
    "\"keep Left\",\n",
    "\"keep Right\",\n",
    "\"Roundabout mandatory\",\n",
    "\"watch out for cars\",\n",
    "\"Horn\",\n",
    "\"Bicycles crossing\",\n",
    "\"Uturn\",\n",
    "\"Road Divider\",\n",
    "\"Traffic signals\",\n",
    "\"Danger Ahead\",\n",
    "\"Zebra Crossing\",\n",
    "\"Bicycles crossing\",\n",
    "\"Children crossing\",\n",
    "\"Dangerous curve to the left\",\n",
    "\"Dangerous curve to the right\",\n",
    "\"Unknown1\",\n",
    "\"Unknown2\",\n",
    "\"Unknown3\",\n",
    "\"Go right or straight\",\n",
    "\"Go left or straight\",\n",
    "\"Unknown4\",\n",
    "\"ZigZag Curve\",\n",
    "\"Train Crossing\",\n",
    "\"Under Construction\",\n",
    "\"Unknown5\",\n",
    "\"Fences\",\n",
    "\"Heavy Vehicle Accidents\",\n",
    "\"Unknown6\",\n",
    "\"Give Way\",\n",
    "\"No stopping\",\n",
    "\"No entry\",\n",
    "\"Unknown7\",\n",
    "\"Unknown8\"\n",
    "]"
   ]
  },
  {
   "cell_type": "code",
   "execution_count": 42,
   "metadata": {},
   "outputs": [],
   "source": [
    "labels = { 0:'Speed limit (5km/h)',\n",
    "            1:'Speed limit (15km/h)',\n",
    "            2:'Speed limit (30km/h)',\n",
    "            3:'Speed limit (40km/h)',\n",
    "            4:'Speed limit (50km/h)',\n",
    "            5:'Speed limit (60km/h)',\n",
    "            6:'End of speed limit (70km/h)',\n",
    "            7:'Speed limit (80km/h)',\n",
    "            8:'Dont Go straight or left',\n",
    "            9:'Dont Go straight or Right',\n",
    "            10:'Dont Go straight',\n",
    "            11:'Dont Go Left',\n",
    "            12:'Dont Go Left or Right',\n",
    "            13:'Dont Go Right',\n",
    "            14:'Dont overtake from Left',\n",
    "            15:'No Uturn',\n",
    "            16:'No Car',\n",
    "            17:'No horn',\n",
    "            18:'Speed limit (40km/h)',\n",
    "            19:'Speed limit (50km/h)',\n",
    "            20:'Go straight or right',\n",
    "            21:'Go straight',\n",
    "            22:'Go Left',\n",
    "            23:'Go Left or right',\n",
    "            24:'Go Right',\n",
    "            25:'keep Left',\n",
    "            26:'keep Right',\n",
    "            27:'Roundabout mandatory',\n",
    "            28:'watch out for cars',\n",
    "            29:'Horn',\n",
    "            30:'Bicycles crossing',\n",
    "            31:'Uturn',\n",
    "            32:'Road Divider',\n",
    "            33:'Traffic signals',\n",
    "            34:'Danger Ahead',\n",
    "            35:'Zebra Crossing',\n",
    "            36:'Bicycles crossing',\n",
    "            37:'Children crossing',\n",
    "            38:'Dangerous curve to the left',\n",
    "            39:'Dangerous curve to the right',\n",
    "            40:'Unknown1',\n",
    "            41:'Unknown2',\n",
    "            42:'Unknown3',\n",
    "            43:'Go right or straight',\n",
    "            44:'Go left or straight',\n",
    "            45:'Unknown4',\n",
    "            46:'ZigZag Curve',\n",
    "            47:'Train Crossing',\n",
    "            48:'Under Construction',\n",
    "            49:'Unknown5',\n",
    "            50:'Fences',\n",
    "            51:'Heavy Vehicle Accidents',\n",
    "            52:'Unknown6',\n",
    "            53:'Give Way',\n",
    "            54:'No stopping',\n",
    "            55:'No entry',\n",
    "            56:'Unknown7',\n",
    "            57:'Unknown8'\n",
    "            }"
   ]
  },
  {
   "cell_type": "code",
   "execution_count": 46,
   "metadata": {},
   "outputs": [
    {
     "name": "stdout",
     "output_type": "stream",
     "text": [
      "Found 3359 images belonging to 58 classes.\n",
      "Found 811 images belonging to 58 classes.\n"
     ]
    }
   ],
   "source": [
    "batch_size=32\n",
    "datagen_args = dict(rotation_range=20,\n",
    "    width_shift_range=0.2,\n",
    "    height_shift_range=0.2,\n",
    "    validation_split=0.2)\n",
    "datagen = ImageDataGenerator(**datagen_args)\n",
    "# datagenerator = datagen.flow_from_directory('../traffic_Data/DATA',target_size=(128,128),batch_size=batch_size,interpolation=\"lanczos\",shuffle=True)\n",
    "datagenerator = datagen.flow_from_directory('../traffic_Data/DATA',target_size=(128,128),\n",
    "                                            batch_size=batch_size,interpolation=\"lanczos\",shuffle=True,subset='training',class_mode='categorical')\n",
    "validation_generator = datagen.flow_from_directory('../traffic_Data/DATA',target_size=(128,128),\n",
    "                                            batch_size=batch_size,interpolation=\"lanczos\",shuffle=True,subset='validation',class_mode='categorical')\n",
    "test_datagen = ImageDataGenerator()"
   ]
  },
  {
   "cell_type": "code",
   "execution_count": 51,
   "metadata": {},
   "outputs": [
    {
     "name": "stdout",
     "output_type": "stream",
     "text": [
      "Number of sample:  3359\n",
      "Number of classes:  58\n",
      "Number of samples per class:  57\n"
     ]
    }
   ],
   "source": [
    "print('Number of sample: ',datagenerator.samples)\n",
    "print('Number of classes: ',len(datagenerator.class_indices))\n",
    "print('Number of samples per class: ',int(datagenerator.samples/len(datagenerator.class_indices)))"
   ]
  },
  {
   "cell_type": "code",
   "execution_count": 52,
   "metadata": {},
   "outputs": [
    {
     "name": "stdout",
     "output_type": "stream",
     "text": [
      "{'0': 0, '1': 1, '10': 2, '11': 3, '12': 4, '13': 5, '14': 6, '15': 7, '16': 8, '17': 9, '18': 10, '19': 11, '2': 12, '20': 13, '21': 14, '22': 15, '23': 16, '24': 17, '25': 18, '26': 19, '27': 20, '28': 21, '29': 22, '3': 23, '30': 24, '31': 25, '32': 26, '33': 27, '34': 28, '35': 29, '36': 30, '37': 31, '38': 32, '39': 33, '4': 34, '40': 35, '41': 36, '42': 37, '43': 38, '44': 39, '45': 40, '46': 41, '47': 42, '48': 43, '49': 44, '5': 45, '50': 46, '51': 47, '52': 48, '53': 49, '54': 50, '55': 51, '56': 52, '57': 53, '6': 54, '7': 55, '8': 56, '9': 57}\n"
     ]
    }
   ],
   "source": [
    "print(datagenerator.class_indices)"
   ]
  },
  {
   "cell_type": "code",
   "execution_count": null,
   "metadata": {},
   "outputs": [],
   "source": [
    "datagenerator.filenames[0:5]"
   ]
  },
  {
   "cell_type": "code",
   "execution_count": 49,
   "metadata": {},
   "outputs": [
    {
     "data": {
      "text/plain": [
       "{0: '0',\n",
       " 1: '1',\n",
       " 2: '10',\n",
       " 3: '11',\n",
       " 4: '12',\n",
       " 5: '13',\n",
       " 6: '14',\n",
       " 7: '15',\n",
       " 8: '16',\n",
       " 9: '17',\n",
       " 10: '18',\n",
       " 11: '19',\n",
       " 12: '2',\n",
       " 13: '20',\n",
       " 14: '21',\n",
       " 15: '22',\n",
       " 16: '23',\n",
       " 17: '24',\n",
       " 18: '25',\n",
       " 19: '26',\n",
       " 20: '27',\n",
       " 21: '28',\n",
       " 22: '29',\n",
       " 23: '3',\n",
       " 24: '30',\n",
       " 25: '31',\n",
       " 26: '32',\n",
       " 27: '33',\n",
       " 28: '34',\n",
       " 29: '35',\n",
       " 30: '36',\n",
       " 31: '37',\n",
       " 32: '38',\n",
       " 33: '39',\n",
       " 34: '4',\n",
       " 35: '40',\n",
       " 36: '41',\n",
       " 37: '42',\n",
       " 38: '43',\n",
       " 39: '44',\n",
       " 40: '45',\n",
       " 41: '46',\n",
       " 42: '47',\n",
       " 43: '48',\n",
       " 44: '49',\n",
       " 45: '5',\n",
       " 46: '50',\n",
       " 47: '51',\n",
       " 48: '52',\n",
       " 49: '53',\n",
       " 50: '54',\n",
       " 51: '55',\n",
       " 52: '56',\n",
       " 53: '57',\n",
       " 54: '6',\n",
       " 55: '7',\n",
       " 56: '8',\n",
       " 57: '9'}"
      ]
     },
     "execution_count": 49,
     "metadata": {},
     "output_type": "execute_result"
    }
   ],
   "source": [
    "class_mapping = {v:k for k,v in datagenerator.class_indices.items()}\n",
    "class_mapping"
   ]
  },
  {
   "cell_type": "code",
   "execution_count": null,
   "metadata": {},
   "outputs": [],
   "source": [
    "x,y = next(datagenerator)\n",
    "print('x: ',type(x))\n",
    "print('y: ',type(y))\n",
    "print('x: ',x.shape)\n",
    "print('y: ',y.shape)"
   ]
  },
  {
   "cell_type": "code",
   "execution_count": null,
   "metadata": {},
   "outputs": [],
   "source": [
    "#Get class int vale from one hot encoded labels\n",
    "y_int = np.argmax(y,axis=-1)\n",
    "y_int"
   ]
  },
  {
   "cell_type": "code",
   "execution_count": null,
   "metadata": {},
   "outputs": [],
   "source": [
    "def show_grid(image_list,nrows,ncols,label_list=None,show_labels=False,savename=None,figsize=(10,10),showaxis='off'):\n",
    "    if type(image_list) is not list:\n",
    "        if(image_list.shape[-1]==1):\n",
    "            image_list = [image_list[i,:,:,0] for i in range(image_list.shape[0])]\n",
    "        elif(image_list.shape[-1]==3):\n",
    "            image_list = [image_list[i,:,:,:] for i in range(image_list.shape[0])]\n",
    "    fig = plt.figure(None, figsize,frameon=False)\n",
    "    grid = ImageGrid(fig, 111,  # similar to subplot(111)\n",
    "                     nrows_ncols=(nrows, ncols),  # creates 2x2 grid of axes\n",
    "                     axes_pad=0.3,  # pad between axes in inch.\n",
    "                     share_all=True,\n",
    "                     )\n",
    "    for i in range(nrows*ncols):\n",
    "        ax = grid[i]\n",
    "        ax.imshow(image_list[i],cmap='Greys_r')  # The AxesGrid object work as a list of axes.\n",
    "        ax.axis('off')\n",
    "        if show_labels:\n",
    "            ax.set_title(class_mapping[y_int[i]])\n",
    "    if savename != None:\n",
    "        plt.savefig(savename,bbox_inches='tight')"
   ]
  },
  {
   "cell_type": "code",
   "execution_count": null,
   "metadata": {},
   "outputs": [],
   "source": [
    "# show_grid(x,4,8,label_list=y_int,show_labels=True,figsize=(20,10),savename='../visualizations/image_grid.png')"
   ]
  },
  {
   "cell_type": "code",
   "execution_count": null,
   "metadata": {},
   "outputs": [],
   "source": [
    "dgen_no_shuffle = datagen.flow_from_directory('../traffic_Data/DATA',target_size=(128,128),batch_size=32,interpolation=\"lanczos\",shuffle=False)\n",
    "\n",
    "# We get the third batch\n",
    "dgen_no_shuffle.reset() #resets the generator to the first batch\n",
    "for i in range(3):\n",
    "    x1,y1 = next(dgen_no_shuffle)\n",
    "    y1_int = np.argmax(y1,axis=-1)\n",
    "#Plot the batch images w.r.t. the dataset images.\n",
    "plt.figure(figsize=(20,20))\n",
    "idx=1\n",
    "for i in range(8):\n",
    "    plt.subplot(4,4,idx)\n",
    "    idx+=1\n",
    "    plt.imshow(x1[i].reshape(128,128,3))\n",
    "    plt.subplot(4,4,idx)\n",
    "    plt.imshow(io.imread(os.path.join(dgen_no_shuffle.directory,dgen_no_shuffle.filenames[(dgen_no_shuffle.batch_index-1)*32+i])))\n",
    "    idx+=1\n",
    "plt.savefig('../visualizations/visual_original_comp.png',bbox_inches='tight')"
   ]
  },
  {
   "cell_type": "code",
   "execution_count": null,
   "metadata": {},
   "outputs": [],
   "source": [
    "# create model\n",
    "import tensorflow as tf\n",
    "def create_model(input_shape=(128, 128, 3)):\n",
    "    \"\"\"\n",
    "    load EfficientNet without last layer and\n",
    "    add Dense and ouput Dense with NUM_CLASSES units\n",
    "\n",
    "    \"\"\"\n",
    "    inputs = tf.keras.layers.Input(input_shape)\n",
    "\n",
    "    base_model = tf.keras.applications.EfficientNetB0(\n",
    "        include_top=False,\n",
    "        weights=\"imagenet\",\n",
    "        pooling=\"avg\",\n",
    "        classifier_activation=\"softmax\",\n",
    "    )\n",
    "    base_model.trainable = False\n",
    "\n",
    "    x = base_model(inputs)\n",
    "    x = tf.keras.layers.BatchNormalization()(x)\n",
    "    x = tf.keras.layers.Dense(512, activation=\"relu\")(x)\n",
    "    # x = tf.keras.layers.Dropout(0.2)(x)\n",
    "    # x = tf.keras.layers.Dense(256, activation='relu')(x)\n",
    "    outputs = tf.keras.layers.Dense(58, activation=\"softmax\")(x)\n",
    "\n",
    "    return tf.keras.models.Model(inputs, outputs)"
   ]
  },
  {
   "cell_type": "code",
   "execution_count": null,
   "metadata": {},
   "outputs": [],
   "source": [
    "model = create_model()\n",
    "model.compile(\n",
    "    optimizer=\"Adam\",\n",
    "    loss=\"categorical_crossentropy\",\n",
    "    metrics=[\"acc\"],\n",
    ")\n",
    "callback = [tf.keras.callbacks.EarlyStopping(\n",
    "    monitor=\"val_accuracy\", patience=3, restore_best_weights=True\n",
    "),\n",
    "tf.keras.callbacks.ModelCheckpoint('models/model_{val_accuracy:.3f}.h5',\n",
    "                                save_best_only=True,\n",
    "                                save_weights_only=False,\n",
    "                                monitor='val_accuracy'\n",
    ")]\n",
    "\n",
    "\n",
    "batch_size=32\n",
    "history = model.fit(datagenerator,\n",
    "                           steps_per_epoch= math.ceil(datagenerator.samples//batch_size),\n",
    "                           epochs=25, verbose=1,callbacks=[callback])"
   ]
  },
  {
   "cell_type": "code",
   "execution_count": null,
   "metadata": {},
   "outputs": [],
   "source": [
    "dgen_no_shuffle.reset() \n",
    "y = model.predict(dgen_no_shuffle,steps= math.ceil(dgen_no_shuffle.samples//batch_size))"
   ]
  },
  {
   "cell_type": "code",
   "execution_count": null,
   "metadata": {},
   "outputs": [],
   "source": []
  },
  {
   "cell_type": "code",
   "execution_count": null,
   "metadata": {},
   "outputs": [],
   "source": [
    "model.summary()"
   ]
  }
 ],
 "metadata": {
  "interpreter": {
   "hash": "307662f9c44789d046d73cfe6d738f500900bb27bc5c402460ece33fdae9cbb7"
  },
  "kernelspec": {
   "display_name": "Python 3.8.10 ('venv': venv)",
   "language": "python",
   "name": "python3"
  },
  "language_info": {
   "codemirror_mode": {
    "name": "ipython",
    "version": 3
   },
   "file_extension": ".py",
   "mimetype": "text/x-python",
   "name": "python",
   "nbconvert_exporter": "python",
   "pygments_lexer": "ipython3",
   "version": "3.8.10"
  },
  "orig_nbformat": 4
 },
 "nbformat": 4,
 "nbformat_minor": 2
}
